{
 "cells": [
  {
   "cell_type": "markdown",
   "id": "f2ead89c",
   "metadata": {},
   "source": [
    "# coding\n",
    "\n",
    "\n",
    "# Commen ShortCuts\n",
    "\n",
    "- ctrl + G\n",
    "\n",
    "- f2\n",
    "\n",
    "- ctrl + /\n",
    "\n",
    "- ctrl + up/down\n",
    "\n",
    "- ctrl + left/right\n",
    "\n",
    "- ctrl + shift + left/right\n",
    "\n",
    "- ctrl + x\n",
    "\n",
    "- ctrl + c\n",
    "\n",
    "- ctrl + v\n",
    "\n",
    "\n",
    "- alt + shift + mouse drag\n",
    "\n",
    "- alt + up/down\n",
    "\n",
    "- alt + shift + c\n",
    "\n",
    "# VSCode\n",
    "- ctrl + shift + p\n",
    "\n",
    "- alt + number\n",
    "\n",
    "- ctrl + Tab\n",
    "\n",
    "- ctrl + b\n",
    "\n",
    "- ctrl + ,\n",
    "\n",
    "- ctrl + j\n",
    "\n",
    "- Alt + enter \n",
    "\n",
    "- ctrl + d\n",
    "\n",
    "- ctrl + shift + o\n",
    "\n",
    "- ctrl + l\n",
    "\n",
    "\n",
    "\n"
   ]
  },
  {
   "cell_type": "code",
   "execution_count": null,
   "id": "479b8849",
   "metadata": {},
   "outputs": [],
   "source": []
  }
 ],
 "metadata": {
  "kernelspec": {
   "display_name": "Python 3 (ipykernel)",
   "language": "python",
   "name": "python3"
  },
  "language_info": {
   "codemirror_mode": {
    "name": "ipython",
    "version": 3
   },
   "file_extension": ".py",
   "mimetype": "text/x-python",
   "name": "python",
   "nbconvert_exporter": "python",
   "pygments_lexer": "ipython3",
   "version": "3.9.6"
  }
 },
 "nbformat": 4,
 "nbformat_minor": 5
}
